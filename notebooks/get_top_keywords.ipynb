{
 "cells": [
  {
   "cell_type": "code",
   "execution_count": 6,
   "metadata": {},
   "outputs": [],
   "source": [
    "import os\n",
    "import sys\n",
    "import psycopg2\n",
    "\n",
    "sys.path.insert(0, os.path.abspath(\n",
    "    '../'))  # add the current module so that we can import the utils file\n",
    "\n",
    "from tools.utils import get_top_keywords_for_query, create_df_for_query"
   ]
  },
  {
   "cell_type": "code",
   "execution_count": 2,
   "metadata": {},
   "outputs": [],
   "source": [
    "db = psycopg2.connect(user=\"lvs215\",\n",
    "                      password=\"\",\n",
    "                      host=\"127.0.0.1\",\n",
    "                      port=\"12777\",\n",
    "                      database=\"aip\")\n",
    "start_year = 2011  # inclusive\n",
    "end_year = 2020  # inclusive"
   ]
  },
  {
   "cell_type": "code",
   "execution_count": null,
   "metadata": {},
   "outputs": [],
   "source": [
    "corpus_query = \"\"\"\n",
    "    SELECT * \n",
    "    FROM publications\"\"\"\n",
    "\n",
    "corpus_df = create_df_for_query(db, corpus_query)"
   ]
  },
  {
   "cell_type": "code",
   "execution_count": 22,
   "metadata": {},
   "outputs": [],
   "source": [
    "top_keywords_for_query = get_top_keywords_for_query(conn, corpus_df,\n",
    "                                                    \"SELECT * FROM publications WHERE year between {} and {}\".format(\n",
    "                                                        start_year, end_year),\n",
    "                                                    50)"
   ]
  },
  {
   "cell_type": "code",
   "execution_count": 23,
   "metadata": {},
   "outputs": [
    {
     "name": "stdout",
     "output_type": "stream",
     "text": [
      "\\begin{table}[t]\n",
      "\\caption{Top-10 keywords in system-venue articles published between 2009 and 2018.}\n",
      "\\label{tbl:top-10-overall}\n",
      "\\vspace{-0.2cm}\n",
      "\\begin{adjustbox}{max width=\\columnwidth}\n",
      "\\begin{tabular}{lllllllllll}\n",
      "\\toprule\n",
      "Rank & 1 & 2 & 3 & 4 & 5 & 6 & 7 & 8 & 9 & 10 \\\\ \\midrule\n",
      "Word & data & system & network & algorithm & performance & application & model & cloud & time & user \\\\ \\bottomrule\n",
      "\\end{tabular}\n",
      "\\end{adjustbox}\n",
      "\\vspace{-0.3cm}\n",
      "\\end{table}\n",
      "\n"
     ]
    }
   ],
   "source": [
    "custom_stopwords_for_query = [\"based\", \"method\", \"service\", \"approach\",\n",
    "                              \"problem\", \"computing\", \"proposed\"]\n",
    "\n",
    "# Print the entire LaTeX table based on the top_keywords_for_query list\n",
    "# Generate overall trends across my entire database\n",
    "print(\"\"\"\\\\begin{{table}}[t]\n",
    "\\\\caption{{Top-10 keywords in system-venue articles published between {} and {}.}}\n",
    "\\\\label{{tbl:top-10-overall}}\n",
    "\\\\vspace{{-0.2cm}}\n",
    "\\\\begin{{adjustbox}}{{max width=\\\\columnwidth}}\n",
    "\\\\begin{{tabular}}{{lllllllllll}}\n",
    "\\\\toprule\n",
    "Rank & 1 & 2 & 3 & 4 & 5 & 6 & 7 & 8 & 9 & 10 \\\\\\\\ \\\\midrule\n",
    "Word & {} \\\\\\\\ \\\\bottomrule\n",
    "\\\\end{{tabular}}\n",
    "\\\\end{{adjustbox}}\n",
    "\\\\vspace{{-0.3cm}}\n",
    "\\\\end{{table}}\\n\"\"\".format(start_year, end_year, \" & \".join(\n",
    "    [x for x in top_keywords_for_query if x not in custom_stopwords_for_query][\n",
    "    :10])))\n"
   ]
  },
  {
   "cell_type": "code",
   "execution_count": 3,
   "metadata": {},
   "outputs": [
    {
     "name": "stdout",
     "output_type": "stream",
     "text": [
      "\n",
      "    SELECT * \n",
      "    FROM publications \n",
      "    WHERE year BETWEEN %s AND %s\n"
     ]
    }
   ],
   "source": [
    "corpus_query = \"\"\"\n",
    "    SELECT * \n",
    "    FROM publications \n",
    "    WHERE year BETWEEN %s AND %s\"\"\"\n",
    "\n",
    "corpus_df = create_df_for_query(db, corpus_query, [start_year, end_year])"
   ]
  },
  {
   "cell_type": "code",
   "execution_count": 8,
   "metadata": {},
   "outputs": [
    {
     "name": "stdout",
     "output_type": "stream",
     "text": [
      "SELECT * \n",
      "                                                    FROM publications \n",
      "                                                    WHERE year between %s and %s\n",
      "                                                    AND (lower(title) like %s or lower(abstract) like %s) \n",
      "                                                    AND (lower(title) like %s or lower(abstract) like %s)\n",
      "['workflow', 'scheduling', 'cloud', 'resource', 'algorithm', 'task', 'scientific', 'execution', 'cost', 'application', 'computing', 'time', 'data', 'deadline', 'system', 'schedule', 'environment', 'based', 'scheduler', 'performance', 'proposed', 'makespan', 'problem', 'approach', 'constraint', 'provisioning', 'job', 'model', 'heuristic', 'optimization', 'objective', 'service', 'aware', 'distributed', 'constrained', 'intensive', 'user', 'grid', 'multi', 'different', 'strategy', 'multiple', 'heterogeneous', 'dependency', 'real', 'solution', 'simulation', 'method', 'budget', 'hybrid']\n"
     ]
    }
   ],
   "source": [
    "# Based on the corpus defined above, get the top 50 keywords for the sub query.\n",
    "top_keywords_for_query = get_top_keywords_for_query(db, corpus_df,\n",
    "                                                    \"\"\"SELECT * \n",
    "                                                    FROM publications \n",
    "                                                    WHERE year between %s and %s\n",
    "                                                    AND (lower(title) like %s or lower(abstract) like %s) \n",
    "                                                    AND (lower(title) like %s or lower(abstract) like %s)\"\"\",\n",
    "                                                    50,\n",
    "                                                    [2011, 2020, '%workflow%',\n",
    "                                                     '%workflow%', '%schedul%',\n",
    "                                                     '%schedul%'])\n",
    "\n",
    "print(top_keywords_for_query)"
   ]
  },
  {
   "cell_type": "code",
   "execution_count": 9,
   "metadata": {},
   "outputs": [
    {
     "name": "stdout",
     "output_type": "stream",
     "text": [
      "\\begin{table}[t]\n",
      "\\caption{Top-10 keywords in articles on scheduling workflow published between 2011 and 2020.}\n",
      "\\label{tbl:top-10-scheduling-workflow-overall}\n",
      "\\vspace{-0.2cm}\n",
      "\\begin{adjustbox}{max width=\\columnwidth}\n",
      "\\begin{tabular}{lllllllllll}\n",
      "\\toprule\n",
      "Rank & 1 & 2 & 3 & 4 & 5 & 6 & 7 & 8 & 9 & 10 \\\\ \\midrule\n",
      "Word & workflow & scheduling & cloud & algorithm & task & cost & application & time & data & deadline \\\\ \\bottomrule\n",
      "\\end{tabular}\n",
      "\\end{adjustbox}\n",
      "\\vspace{-0.3cm}\n",
      "\\end{table}\n",
      "\n"
     ]
    }
   ],
   "source": [
    "# Print the entire LaTeX table based on the top_keywords_for_query list\n",
    "custom_stopwords_for_query = [\"resource\", \"scientific\", \"system\", \"execution\",\n",
    "                              \"based\", \"proposed\", \"service\",\n",
    "                              \"computing\", \"approach\", \"problem\"]\n",
    "\n",
    "print(\"\"\"\\\\begin{{table}}[t]\n",
    "\\\\caption{{Top-10 keywords in articles on scheduling workflow published between {} and {}.}}\n",
    "\\\\label{{tbl:top-10-scheduling-workflow-overall}}\n",
    "\\\\vspace{{-0.2cm}}\n",
    "\\\\begin{{adjustbox}}{{max width=\\\\columnwidth}}\n",
    "\\\\begin{{tabular}}{{lllllllllll}}\n",
    "\\\\toprule\n",
    "Rank & 1 & 2 & 3 & 4 & 5 & 6 & 7 & 8 & 9 & 10 \\\\\\\\ \\\\midrule\n",
    "Word & {} \\\\\\\\ \\\\bottomrule\n",
    "\\\\end{{tabular}}\n",
    "\\\\end{{adjustbox}}\n",
    "\\\\vspace{{-0.3cm}}\n",
    "\\\\end{{table}}\\n\"\"\".format(start_year, end_year, \" & \".join(\n",
    "    [x for x in top_keywords_for_query if x not in custom_stopwords_for_query][\n",
    "    :10])))\n"
   ]
  },
  {
   "cell_type": "code",
   "execution_count": 27,
   "metadata": {},
   "outputs": [],
   "source": [
    "keywords_per_year = dict()\n",
    "num_keywords = 10"
   ]
  },
  {
   "cell_type": "code",
   "execution_count": 28,
   "metadata": {},
   "outputs": [
    {
     "name": "stdout",
     "output_type": "stream",
     "text": [
      "['workflow', 'scheduling', 'grid', 'application', 'time', 'algorithm', 'environment', 'task', 'job', 'cloud', 'heuristic', 'qos', 'problem', 'computational', 'reliability', 'performance', 'strategy', 'deadline', 'oriented', 'usage', 'propose', 'data', '2009', 'computation', 'dynamically', 'cost', 'shared', 'promising', 'simulation', 'parallel', 'submission', 'policy', 'graph', 'aspect']\n",
      "['workflow', 'scheduling', 'grid', 'application', 'data', 'cloud', 'task', 'job', 'performance', 'algorithm', 'workload', 'environment', 'qos', 'cluster', 'user', 'deadline', 'failure', 'utilization', 'far', 'manage', 'context', 'driven', 'throughput', 'platform', 'execute', 'scheduler', 'instance', 'step', 'makespan', 'account', 'real']\n",
      "['workflow', 'scheduling', 'cloud', 'algorithm', 'task', 'time', 'application', 'data', 'environment', 'job', 'cost', 'performance', 'model', 'experiment', 'grid', 'span', 'compute', 'used', 'problem', 'execute', 'number', 'parallel', '2011', 'makespan', 'onto', 'scheduler', 'simulation', 'elastic', 'specified', 'policy', 'strategy', 'several', 'dataflow', 'work', 'determine', 'completion', 'provisioning', 'reduce', 'batch', 'deadline']\n",
      "['workflow', 'scheduling', 'algorithm', 'grid', 'application', 'cloud', 'user', 'provisioning', 'performance', 'environment', 'makespan', 'cost', 'data', 'task', 'time', 'method', 'optimization', 'make', 'work', 'dynamic', 'objective', 'solution', 'problem', 'contrast', 'represent', 'synthetic', 'computation', 'scale', 'taking', 'static', 'account', 'allocation', 'criteria', 'use', 'np', 'lack', 'complete', 'model', 'cluster', 'parallel']\n",
      "['workflow', 'scheduling', 'cloud', 'algorithm', 'task', 'cost', 'application', 'time', 'performance', 'deadline', 'simulation', 'two', 'model', 'grid', 'data', 'critical', 'objective', 'path', 'meeting', 'provisioning', 'budget', 'monetary', 'first', 'completion', 'scenario', 'analysis', 'heterogeneous', 'realistic', 'strategy', 'demand', 'concurrency', 'delay', 'deal', 'job', 'maximize', 'parallel', 'makespan']\n",
      "['workflow', 'scheduling', 'cloud', 'task', 'application', 'algorithm', 'optimization', 'data', 'performance', 'objective', 'scheduler', 'environment', 'deadline', 'cost', 'solution', 'grid', 'cluster', 'framework', 'allocation', 'elastic', 'increasing', 'budget', 'time', 'satisfying', 'makespan', 'used', 'enabling', 'provisioning', 'configuration', 'two', 'span', 'large', 'sequential', 'problem']\n",
      "['workflow', 'scheduling', 'cloud', 'task', 'cost', 'performance', 'application', 'algorithm', 'data', 'provisioning', 'environment', 'deadline', 'overall', 'time', 'issue', 'scheduler', 'policy', 'research', 'dependency', 'job', 'many', 'runtime', 'problem', 'scheduled', 'user', 'simulation', 'scale', 'compute', 'large', 'infrastructure', 'efficient', 'platform', 'strategy', 'execute']\n",
      "['workflow', 'scheduling', 'task', 'cloud', 'algorithm', 'application', 'data', 'cost', 'makespan', 'time', 'deadline', 'environment', 'heterogeneous', 'strategy', 'model', 'qos', 'use', 'cluster', 'user', 'provisioning', 'success', 'large', 'new', 'scheduler', 'processing', 'problem', 'infrastructure', 'pay', 'optimization', 'pricing', 'vm', 'dependency', 'consists', 'budget']\n",
      "['workflow', 'scheduling', 'cloud', 'algorithm', 'time', 'task', 'cost', 'deadline', 'scheduler', 'application', 'data', 'makespan', 'environment', 'dynamic', 'simulation', 'heterogeneous', 'real', 'problem', 'heuristic', 'objective', 'swarm', 'particle', 'optimization', 'performance', 'policy', 'solution', 'simulator', 'model', 'parallel', 'qos', 'strategy', 'minimum', 'compute', 'meet', 'user', 'job', 'hpc']\n",
      "['workflow', 'scheduling', 'cloud', 'task', 'deadline', 'data', 'cost', 'algorithm', 'heuristic', 'graph', 'environment', 'time', 'problem', 'application', 'utilization', 'extensive', 'provisioning', 'meta', 'performance', 'popular', 'acyclic', 'heterogeneous', 'heft', 'computation', 'method', 'well', 'energy', 'demand', 'configuration', 'scheduler', 'job', 'statistical']\n"
     ]
    }
   ],
   "source": [
    "custom_stopwords_for_query = set(\n",
    "    [\"resource\", \"execution\", \"scientific\", \"service\", \"management\", \"based\",\n",
    "     \"computing\", \"schedule\", \"approach\", \"different\", \"distributed\", \"science\",\n",
    "     \"system\", \"intensive\", \"aware\", \"executing\", \"science\", \"file\",\n",
    "     \"characteristic\",\n",
    "     \"complex\", \"bi\", \"proposed\", \"transfer\", \"hybrid\", \"directed\",\n",
    "     \"constraint\",\n",
    "     \"constrained\", \"multi\", \"multiple\", \"scientist\", \"tolerance\"])\n",
    "for year in range(start_year, end_year + 1):\n",
    "    query = \"SELECT * FROM publications WHERE year = ? and (lower(title) like '%workflow%' or lower(abstract) like '%workflow%') and (lower(title) like '%schedul%' or lower(abstract) like '%schedul%')\"\n",
    "    keywords = [x for x in\n",
    "                get_top_keywords_for_query(conn, corpus_df, query, 50, [year])\n",
    "                if x not in custom_stopwords_for_query]\n",
    "    print(\n",
    "        keywords)  # Visual dump to see if we need to add words to the stopwords set\n",
    "    keywords_per_year[year] = keywords[:num_keywords]"
   ]
  },
  {
   "cell_type": "code",
   "execution_count": 29,
   "metadata": {},
   "outputs": [
    {
     "name": "stdout",
     "output_type": "stream",
     "text": [
      "\n",
      "\\begin{table}[t]\n",
      "\\caption{Top-10 keywords per year in articles on scheduling workflows published between 2009 and 2018.}\n",
      "\\label{tbl:top-10-scheduling-workflow-per-year}\n",
      "\\vspace{-0.2cm}\n",
      "\\begin{adjustbox}{max width=\\columnwidth}\n",
      "\\begin{tabular}{rllllllllll}\n",
      "\\toprule\n",
      "Rank & 2009 & 2010 & 2011 & 2012 & 2013 & 2014 & 2015 & 2016 & 2017 & 2018 \\\\ \\midrule\n",
      "1 & workflow & workflow & workflow & workflow & workflow & workflow & workflow & workflow & workflow & workflow \\\\\n",
      "2 & scheduling & scheduling & scheduling & scheduling & scheduling & scheduling & scheduling & scheduling & scheduling & scheduling \\\\\n",
      "3 & grid & grid & cloud & algorithm & cloud & cloud & cloud & task & cloud & cloud \\\\\n",
      "4 & application & application & algorithm & grid & algorithm & task & task & cloud & algorithm & task \\\\\n",
      "5 & time & data & task & application & task & application & cost & algorithm & time & deadline \\\\ \\midrule\n",
      "6 & algorithm & cloud & time & cloud & cost & algorithm & performance & application & task & data \\\\\n",
      "7 & environment & task & application & user & application & optimization & application & data & cost & cost \\\\\n",
      "8 & task & job & data & provisioning & time & data & algorithm & cost & deadline & algorithm \\\\\n",
      "9 & job & performance & environment & performance & performance & performance & data & makespan & scheduler & heuristic \\\\\n",
      "10 & cloud & algorithm & job & environment & deadline & objective & provisioning & time & application & graph \\\\ \\bottomrule\n",
      "\\end{tabular}\n",
      "\\end{adjustbox}\n",
      "\\vspace{-0.3cm}\n",
      "\\end{table}\n"
     ]
    }
   ],
   "source": [
    "# Print the entire LaTeX table based on the keywords_per_year dict\n",
    "print(\"\"\"\n",
    "\\\\begin{{table}}[t]\n",
    "\\\\caption{{Top-10 keywords per year in articles on scheduling workflows published between {} and {}.}}\n",
    "\\\\label{{tbl:top-10-scheduling-workflow-per-year}}\n",
    "\\\\vspace{{-0.2cm}}\n",
    "\\\\begin{{adjustbox}}{{max width=\\columnwidth}}\n",
    "\\\\begin{{tabular}}{{rllllllllll}}\n",
    "\\\\toprule\"\"\".format(start_year, end_year))\n",
    "print(\"Rank & {} \\\\\\\\ \\\\midrule\".format(\n",
    "    \" & \".join([str(x) for x in range(start_year, end_year + 1)])))\n",
    "\n",
    "for rank in range(1, num_keywords + 1):\n",
    "    line = \"{0} & \".format(rank)\n",
    "    for year in range(start_year, end_year + 1):\n",
    "        line += \"{0} & \".format(keywords_per_year[year][rank - 1])\n",
    "\n",
    "    line = line.rstrip(\" & \")\n",
    "    line += \" \\\\\\\\\"\n",
    "    if rank == 5:\n",
    "        line += \" \\\\midrule\"\n",
    "\n",
    "    if rank == num_keywords:\n",
    "        line += \" \\\\bottomrule\"\n",
    "\n",
    "    print(line)\n",
    "print(\"\"\"\\end{tabular}\n",
    "\\\\end{adjustbox}\n",
    "\\\\vspace{-0.3cm}\n",
    "\\\\end{table}\"\"\")"
   ]
  },
  {
   "cell_type": "code",
   "execution_count": null,
   "metadata": {},
   "outputs": [],
   "source": []
  }
 ],
 "metadata": {
  "kernelspec": {
   "display_name": "Python 3",
   "language": "python",
   "name": "python3"
  },
  "language_info": {
   "codemirror_mode": {
    "name": "ipython",
    "version": 3
   },
   "file_extension": ".py",
   "mimetype": "text/x-python",
   "name": "python",
   "nbconvert_exporter": "python",
   "pygments_lexer": "ipython3",
   "version": "3.8.5"
  }
 },
 "nbformat": 4,
 "nbformat_minor": 2
}